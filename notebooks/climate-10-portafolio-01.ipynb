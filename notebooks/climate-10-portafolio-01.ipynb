{
 "cells": [
  {
   "cell_type": "markdown",
   "id": "f089c993-1269-4ac7-923b-aded0dab019c",
   "metadata": {},
   "source": [
    "# Climate coding challenge, Part 6\n",
    "\n",
    "Getting your own data\n",
    "\n",
    "## There are more Earth Observation data online than any one person could ever look at\n",
    "\n",
    "[NASA’s Earth Observing System Data and Information System (EOSDIS)\n",
    "alone manages over 9PB of\n",
    "data](https://www.earthdata.nasa.gov/learn/articles/getting-petabytes-people-how-eosdis-facilitates-earth-observing-data-discovery-and-use).\n",
    "1 PB is roughly 100 times the entire Library of Congress (a good\n",
    "approximation of all the books available in the US). It’s all available\n",
    "to **you** once you learn how to download what you want.\n",
    "\n",
    "Here we’re using the NOAA National Centers for Environmental Information\n",
    "(NCEI) [Access Data\n",
    "Service](https://www.ncei.noaa.gov/support/access-data-service-api-user-documentation)\n",
    "application progamming interface (API) to request data from their web\n",
    "servers. We will be using data collected as part of the Global\n",
    "Historical Climatology Network daily (GHCNd) from their [Climate Data\n",
    "Online library](https://www.ncdc.noaa.gov/cdo-web/datasets) program at\n",
    "NOAA.\n",
    "\n",
    "For this example we’re requesting [daily summary data in\n",
    "**Boulder, CO** (station ID\n",
    "**USC00050848**)](https://www.ncdc.noaa.gov/cdo-web/datasets/GHCND/stations/GHCND:USC00050848/detail)."
   ]
  },
  {
   "cell_type": "markdown",
   "id": "e6fae95c-05db-4ec5-b8f6-5677291e5178",
   "metadata": {},
   "source": [
    "> ** Your task:**\n",
    ">\n",
    "> 1.  Research the [**Global Historical Climatology Network -\n",
    ">     Daily**](https://www.ncei.noaa.gov/metadata/geoportal/rest/metadata/item/gov.noaa.ncdc:C00861/html)\n",
    ">     data source.\n",
    "> 2.  In the cell below, write a 2-3 sentence description of the data\n",
    ">     source.\n",
    "> 3.  Include a citation of the data (**HINT:** See the ‘Data Citation’\n",
    ">     tab on the GHCNd overview page).\n",
    ">\n",
    "> Your description should include:\n",
    ">\n",
    "> -   who takes the data\n",
    "> -   where the data were taken\n",
    "> -   what the maximum temperature units are\n",
    "> -   how the data are collected"
   ]
  },
  {
   "cell_type": "markdown",
   "id": "c70a7aa9",
   "metadata": {},
   "source": [
    "### Global Historical Climatology Network - Daily (GHCN-Daily), Version 3\n",
    "\n",
    "The Global Historical Climatology Network - Daily (GHCN-Daily/GHCNd) \n",
    "dataset compiles daily climate observations from approximately 30 \n",
    "different data sources. These observations are collected by various \n",
    "entities or organizations responsible for maintaining weather stations \n",
    "around the world. The data are gathered from over 90,000 land-based \n",
    "stations globally.\n",
    "\n",
    "The maximum temperature units in the dataset are typically recorded in \n",
    "degrees Celsius or Fahrenheit, depending on the source of the data.\n",
    "\n",
    "Data collection involves the daily recording of meteorological elements \n",
    "such as daily maximum and minimum temperatures, temperature at the time \n",
    "of observation, precipitation, snowfall, and snow depth. These measurements \n",
    "are usually taken at specific times each day by automated weather stations \n",
    "and manually by trained observers at various weather stations worldwide. \n",
    "The data are then compiled and processed to create a comprehensive dataset \n",
    "that captures daily climate observations from a wide range of locations.\n",
    "\n",
    "\n",
    "\n",
    "\t\n",
    "Menne, Matthew J., Imke Durre, Bryant Korzeniewski, Shelley McNeill, \n",
    "Kristy Thomas, Xungang Yin, Steven Anthony, Ron Ray, Russell S. Vose, \n",
    "Byron E.Gleason, and Tamara G. Houston (2012): Global Historical \n",
    "Climatology Network - Daily (GHCN-Daily), Version 3. Boulder, CO station\n",
    "USC00050848 Observed Temperature Data. NOAA National Climatic Data Center. \n",
    "doi:10.7289/V5D21VHZ.Accessed: Novembre 29, 2024.\n",
    "\n",
    "Matthew J. Menne, Imke Durre, Russell S. Vose, Byron E. Gleason, and \n",
    "Tamara G. Houston, 2012: An Overview of the Global Historical Climatology \n",
    "Network-Daily Database. J. Atmos. Oceanic Technol., 29, 897-910. \n",
    "doi:10.1175/JTECH-D-11-00103.1."
   ]
  },
  {
   "cell_type": "markdown",
   "id": "65cbd277-08f2-46ea-9bec-d714881c4713",
   "metadata": {},
   "source": [
    "## Access NCEI GHCNd Data from the internet using its API 🖥️ 📡 🖥️\n",
    "\n",
    "The cell below contains the URL for the data you will use in this part\n",
    "of the notebook. We created this URL by generating what is called an\n",
    "**API endpoint** using the NCEI [API\n",
    "documentation](https://www.ncei.noaa.gov/support/access-data-service-api-user-documentation).\n",
    "\n",
    "> **Note**\n",
    ">\n",
    "> An **application programming interface** (API) is a way for two or\n",
    "> more computer programs or components to communicate with each other.\n",
    "> It is a type of software interface, offering a service to other pieces\n",
    "> of software ([Wikipedia](https://en.wikipedia.org/wiki/API)).\n",
    "\n",
    "First things first – you will need to import the `pandas` library to\n",
    "access NCEI data through its URL:"
   ]
  },
  {
   "cell_type": "code",
   "execution_count": 1,
   "id": "0080a1a4",
   "metadata": {},
   "outputs": [],
   "source": [
    "# Import required packages\n",
    "import pandas as pd"
   ]
  },
  {
   "cell_type": "markdown",
   "id": "c2936f0b-2081-41be-8939-d063f9538a5d",
   "metadata": {},
   "source": [
    "> **Your task:**\n",
    ">\n",
    "> 1.  Pick an expressive variable name for the URL.\n",
    "> 2.  Reformat the URL so that it adheres to the [79-character PEP-8\n",
    ">     line\n",
    ">     limit](https://peps.python.org/pep-0008/#maximum-line-length). You\n",
    ">     should see two vertical lines in each cell - don’t let your code\n",
    ">     go past the second line.\n",
    "> 3.  At the end of the cell where you define your url variable, **call\n",
    ">     your variable (type out its name)** so it can be tested."
   ]
  },
  {
   "cell_type": "code",
   "execution_count": 8,
   "id": "dbf3db2e",
   "metadata": {},
   "outputs": [
    {
     "data": {
      "text/plain": [
       "'https://www.ncei.noaa.gov/access/services/data/v1?dataset=daily-summaries&dataTypes=TMAX&stations=USR0000ARAB&units=standard&startDate=1996-01-01&endDate=2024-11-30'"
      ]
     },
     "execution_count": 8,
     "metadata": {},
     "output_type": "execute_result"
    }
   ],
   "source": [
    "anchorage_url = (\n",
    "    'https://www.ncei.noaa.gov/access/services/data/v1'\n",
    "    '?dataset=daily-summaries'\n",
    "    '&dataTypes=TMAX'\n",
    "    '&stations=USR0000ARAB'\n",
    "    '&units=standard'\n",
    "    '&startDate=1996-01-01'\n",
    "    '&endDate=2024-11-30')\n",
    "anchorage_url"
   ]
  },
  {
   "cell_type": "markdown",
   "id": "7fe1870c-40ef-4d1b-89d6-050bba5a8ec2",
   "metadata": {},
   "source": [
    "------------------------------------------------------------------------\n",
    "\n",
    "## **Download and get started working with NCEI data**\n",
    "\n",
    "Just like you did with the practice data, go ahead and use pandas to\n",
    "import data from your API URL into Python. If you didn’t do it already,\n",
    "you should import the pandas library **at the top of this notebook** so\n",
    "that others who want to use your code can find it easily."
   ]
  },
  {
   "cell_type": "code",
   "execution_count": 9,
   "id": "959deead",
   "metadata": {},
   "outputs": [],
   "source": [
    "# Import data into Python from NCEI API\n",
    "anchorage_climate_df = pd.read_csv(\n",
    "    anchorage_url,\n",
    "    index_col='DATE',\n",
    "    parse_dates=True)"
   ]
  },
  {
   "cell_type": "code",
   "execution_count": 12,
   "id": "f3fdf2d4",
   "metadata": {},
   "outputs": [
    {
     "data": {
      "text/plain": [
       "<Axes: xlabel='DATE'>"
      ]
     },
     "execution_count": 12,
     "metadata": {},
     "output_type": "execute_result"
    },
    {
     "data": {
      "image/png": "[encoded data removed]",
      "text/plain": [
       "<Figure size 640x480 with 1 Axes>"
      ]
     },
     "metadata": {},
     "output_type": "display_data"
    }
   ],
   "source": [
    "anchorage_climate_df.TMAX.resample('YS').max().plot()"
   ]
  }
 ],
 "metadata": {
  "kernelspec": {
   "display_name": "base",
   "language": "python",
   "name": "python3"
  },
  "language_info": {
   "codemirror_mode": {
    "name": "ipython",
    "version": 3
   },
   "file_extension": ".py",
   "mimetype": "text/x-python",
   "name": "python",
   "nbconvert_exporter": "python",
   "pygments_lexer": "ipython3",
   "version": "3.11.6"
  }
 },
 "nbformat": 4,
 "nbformat_minor": 5
}

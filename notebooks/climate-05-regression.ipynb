{
 "cells": [
  {
   "cell_type": "markdown",
   "id": "de6a4c7c-6c89-4257-bc5e-b5b6a6d5b308",
   "metadata": {},
   "source": [
    "# So, is the climate changing?\n",
    "\n",
    "First things first – make sure to load the climate `DataFrame` you\n",
    "stored in the previous notebooks using Jupyter cell magic:"
   ]
  },
  {
   "cell_type": "code",
   "execution_count": 1,
   "id": "8262b450",
   "metadata": {},
   "outputs": [],
   "source": [
    "# Load all stored variables\n",
    "%store -r"
   ]
  },
  {
   "cell_type": "markdown",
   "id": "5de5565c-d612-4f51-981b-8e2d80a410e2",
   "metadata": {},
   "source": [
    "## Quantify how fast the climate is changing with a trend line\n",
    "\n",
    "Global climate change causes different effects in different places when\n",
    "we zoom in to a local area. However, you probably noticed when you\n",
    "looked at mean annual temperatures over time that they were rising. We\n",
    "can use a technique called **Linear Ordinary Least Squares (OLS)\n",
    "Regression** to determine how quickly temperatures are rising on\n",
    "average.\n",
    "\n",
    "Before we get started, it’s important to consider that OLS regression is\n",
    "not always the right technique, because it makes some important\n",
    "assumptions about our data:\n",
    "\n",
    "### Random error  \n",
    "Variation in temperature can be caused by many things beyond global\n",
    "climate change. For example, temperatures often vary with patterns of\n",
    "ocean surface temperatures (*teleconnections*), the most famous of which\n",
    "are El Niño and La Niña. By using a linear OLS regression, we’re\n",
    "assuming that all the variation in temperature except for climate change\n",
    "is random. \n",
    "\n",
    "### Normally distributed error\n",
    "If you have taken a statistics class, you probably learned a lot about\n",
    "the normal, or Gaussian distribution. For right now, what you need to\n",
    "know is that OLS regression is useful for identifying trends in average\n",
    "temperature, but wouldn’t be appropriate for looking at trends in daily\n",
    "precipitation (because most days have zero precipitation), or at maximum\n",
    "or minimum annual temperatures (because these are extreme values, and\n",
    "the normal distribution tends to underestimate the likelihood of large\n",
    "events). \n",
    "\n",
    "### Linearity\n",
    "We’re assuming that temperatures are increasing or decreasing at a\n",
    "constant rate over time. We wouldn’t be able to look at rates that\n",
    "change over time. For example, many locations in the Arctic remained the\n",
    "same temperature for much longer than the rest of the world, because ice\n",
    "melt was absorbing all the extra heat. Linear OLS regression wouldn’t be\n",
    "able to identify when the temperature rise began on its own.\n",
    "\n",
    "### Stationarity\n",
    "\n",
    "We’re assuming that variation in temperature caused by things *other*\n",
    "than global climate change (e.g. the random error) behaves the same over\n",
    "time. For example, the linear OLS regression can’t take increased\n",
    "variability from year to year into account, which is a common effect of\n",
    "climate change. We often see “global weirding”, or more extreme head\n",
    "*and* cold, in addition to overall increases. You can observe this most\n",
    "easily by looking at your daily data again. Does it seem to be fanning\n",
    "in or out over time?\n",
    "\n",
    "\n",
    "\n",
    "## YOUR TASK: Is linear OLS regression right for your data?\n",
    "\n",
    "It’s pretty rare to encounter a perfect statistical model where all the\n",
    "assumptions are met, but you want to be on the lookout for serious\n",
    "discrepancies, especially when making predictions. For example,\n",
    "[ignoring assumptions about Gaussian error arguably led to the 2008\n",
    "financial crash](https://www.wired.com/2009/02/wp-quant/).\n",
    "\n",
    "1. Take a look at your data. In the cell below, write a few\n",
    "    sentences about ways your data does and does not meet the linear OLS\n",
    "    regression assumptions."
   ]
  },
  {
   "cell_type": "markdown",
   "id": "86d630cd",
   "metadata": {},
   "source": [
    "* The data presented in the graph does not meet the linear OLS regression\n",
    " assumptions due to the presence of non-linear patterns, such as sharp \n",
    " increases and decreases, indicating that the relationship between the \n",
    " date and temperature is not linear. Additionally, the existence of \n",
    " outliers, like the sharp peak around 1940, suggests that the data may \n",
    " lack constant variance or have a non-normal distribution, further \n",
    " violating the linear OLS regression assumptions."
   ]
  },
  {
   "cell_type": "markdown",
   "id": "3937a655",
   "metadata": {},
   "source": [
    "> **Your task:**\n",
    ">\n",
    "> The following cell contains package imports that you will need to\n",
    "> calculate and plot an OLS Linear trend line. Make sure to run the cell\n",
    "> before moving on, and if you have any additional packages you would\n",
    "> like to use, add them here later on."
   ]
  },
  {
   "cell_type": "code",
   "execution_count": 2,
   "id": "209b3e4f",
   "metadata": {},
   "outputs": [],
   "source": [
    "# Advanced options on matplotlib/seaborn/pandas plots\n",
    "import matplotlib.pyplot as plt\n",
    "# Common statistical plots for tabular data\n",
    "import seaborn as sns\n",
    "# Fit an OLS linear regression\n",
    "from sklearn.linear_model import LinearRegression"
   ]
  },
  {
   "cell_type": "markdown",
   "id": "82ee8183-a772-4727-89a8-fcd86832c09a",
   "metadata": {},
   "source": [
    "> **Your task: Regression**\n",
    ">\n",
    "> 1.  To get sample code, ask ChatGPT how to fit a linear model to your\n",
    ">     data. If you’re new to using large language modesl, go ahead and\n",
    ">     check out [our\n",
    ">     query](https://chatgpt.com/share/649b897b-9075-457e-8e12-308f795312a1)\n",
    "> 2.  Copy code that uses the `scikit-learn` package to perform a OLS\n",
    ">     linear regression to the code cell below.\n",
    "> 3.  Check out your previous plot. Does it make sense to include all\n",
    ">     the data when calculating a trend line? Be sure to select out data\n",
    ">     that meets the OLS assumptions.\n",
    "\n",
    "> **Note**\n",
    ">\n",
    "> We know that some computers, networks, and countries block LLM (large\n",
    "> language model) sites, and that LLMs can sometimes perpetuate\n",
    "> oppressive or offensive language and ideas. However, LLMs are\n",
    "> increasingly standard tools for programming – [according to\n",
    "> GitHub](https://github.com/features/copilot) many developers code 55%\n",
    "> faster with LLM assistance. We also see in our classes that LLMs give\n",
    "> students the ability to work on complex real-world problems earlier\n",
    "> on. We feel it’s worth the trade-off, and at this point we would be\n",
    "> doing you a disservice professionally to teach you to code without\n",
    "> LLMs. If you can’t access them, don’t worry – we’ll present a variety\n",
    "> of options for finding example code. For example, you can also search\n",
    "> for an example on a site like\n",
    "> [StackOverflow](https://stackoverflow.com/) (this is how we all\n",
    "> learned to code, and with the right question it’s a fantastic resource\n",
    "> for any coder to get access to up-to-date information from world\n",
    "> experts quickly). You can also use our solutions as a starting point."
   ]
  },
  {
   "cell_type": "code",
   "execution_count": 3,
   "id": "bcc7c499",
   "metadata": {},
   "outputs": [],
   "source": [
    "include = (\n",
    "    climate_df.TOBS\n",
    "    .resample('YS').count()\n",
    "      / 365 >\n",
    "        .99\n",
    ")"
   ]
  },
  {
   "cell_type": "code",
   "execution_count": 4,
   "id": "99797836",
   "metadata": {},
   "outputs": [
    {
     "name": "stdout",
     "output_type": "stream",
     "text": [
      "Slope: 0.13473389355742296 degrees per year\n"
     ]
    }
   ],
   "source": [
    "ann_climate_df = ann_climate_df.loc['1989':'2024']\n",
    "\n",
    "# Drop no data values\n",
    "observations = ann_climate_df.TOBS.dropna()\n",
    "\n",
    "# Define the dependent variable and independent variable(s)\n",
    "features = observations.index.year.values.reshape(-1, 1)\n",
    "response = observations\n",
    "\n",
    "# Create a Linear Regression model\n",
    "model = LinearRegression()\n",
    "\n",
    "# Fit the model on the training data\n",
    "model.fit(features, response)\n",
    "\n",
    "# Calculate and print the metrics\n",
    "print(f'Slope: {model.coef_[0]} degrees per year')"
   ]
  },
  {
   "cell_type": "code",
   "execution_count": 5,
   "id": "31347b4a",
   "metadata": {},
   "outputs": [
    {
     "name": "stderr",
     "output_type": "stream",
     "text": [
      "/tmp/ipykernel_1627/3002066937.py:5: UserWarning: Boolean Series key will be reindexed to match DataFrame index.\n",
      "  ann_climate_df\n"
     ]
    },
    {
     "data": {
      "text/plain": [
       "<Axes: xlabel='DATE'>"
      ]
     },
     "execution_count": 5,
     "metadata": {},
     "output_type": "execute_result"
    },
    {
     "data": {
      "image/png": "[encoded data removed]",
      "text/plain": [
       "<Figure size 640x480 with 1 Axes>"
      ]
     },
     "metadata": {},
     "output_type": "display_data"
    }
   ],
   "source": [
    "#Fit as OLS LinearRegression to the data\n",
    "# Lets iniciate since 1951 to 2021\n",
    "\n",
    "ann_climate_df_clean = (\n",
    "    ann_climate_df\n",
    "    [include]\n",
    "    .loc['1950':]\n",
    "    .dropna()\n",
    ")\n",
    "ann_climate_df_clean.plot(y='TOBS')\n"
   ]
  },
  {
   "cell_type": "code",
   "execution_count": 6,
   "id": "4318746c",
   "metadata": {},
   "outputs": [
    {
     "data": {
      "text/plain": [
       "array([1991., 1992., 1995., 1996., 1997., 1998., 1999., 2000., 2001.,\n",
       "       2002., 2003., 2004., 2005., 2006., 2007., 2008., 2010., 2011.,\n",
       "       2012., 2013., 2014., 2015., 2016., 2018., 2019., 2020., 2021.,\n",
       "       2022.])"
      ]
     },
     "execution_count": 6,
     "metadata": {},
     "output_type": "execute_result"
    }
   ],
   "source": [
    "ann_climate_df_clean.index.year.values.astype('float')"
   ]
  },
  {
   "cell_type": "code",
   "execution_count": 7,
   "id": "b0537856",
   "metadata": {},
   "outputs": [
    {
     "data": {
      "text/plain": [
       "<Axes: ylabel='Frequency'>"
      ]
     },
     "execution_count": 7,
     "metadata": {},
     "output_type": "execute_result"
    },
    {
     "data": {
      "image/png": "[encoded data removed]",
      "text/plain": [
       "<Figure size 640x480 with 1 Axes>"
      ]
     },
     "metadata": {},
     "output_type": "display_data"
    }
   ],
   "source": [
    "ann_climate_df_clean.plot.hist()"
   ]
  },
  {
   "cell_type": "code",
   "execution_count": 8,
   "id": "39c71ed0",
   "metadata": {},
   "outputs": [
    {
     "data": {
      "text/plain": [
       "<Axes: ylabel='Frequency'>"
      ]
     },
     "execution_count": 8,
     "metadata": {},
     "output_type": "execute_result"
    },
    {
     "data": {
      "image/png": "[encoded data removed]",
      "text/plain": [
       "<Figure size 640x480 with 1 Axes>"
      ]
     },
     "metadata": {},
     "output_type": "display_data"
    }
   ],
   "source": [
    "ann_climate_df_clean.TOBS.plot.hist()"
   ]
  },
  {
   "cell_type": "code",
   "execution_count": 9,
   "id": "050b40b7",
   "metadata": {},
   "outputs": [
    {
     "name": "stdout",
     "output_type": "stream",
     "text": [
      "Slope: [0.06495471]\n",
      "Intercept: [-74.11177629]\n"
     ]
    }
   ],
   "source": [
    "#reshape Year column to be a 2array por scikit-learn\n",
    "predictor = ann_climate_df_clean.index.year.values.reshape(-1, 1)\n",
    "observed = ann_climate_df_clean[['TOBS']].values\n",
    "\n",
    "#create liner regression\n",
    "model = LinearRegression()\n",
    "model.fit(predictor,observed)\n",
    "\n",
    "#create slope and intercept\n",
    "slope =model.coef_[0]\n",
    "intercept = model.intercept_\n",
    "\n",
    "#print results\n",
    "print(f\"Slope: {slope}\")\n",
    "print(f\"Intercept: {intercept}\")"
   ]
  },
  {
   "cell_type": "code",
   "execution_count": 10,
   "id": "c764e0c2",
   "metadata": {},
   "outputs": [
    {
     "name": "stdout",
     "output_type": "stream",
     "text": [
      "                            OLS Regression Results                            \n",
      "==============================================================================\n",
      "Dep. Variable:                      y   R-squared:                       0.173\n",
      "Model:                            OLS   Adj. R-squared:                  0.141\n",
      "Method:                 Least Squares   F-statistic:                     5.443\n",
      "Date:                Mon, 02 Dec 2024   Prob (F-statistic):             0.0277\n",
      "Time:                        23:57:55   Log-Likelihood:                -46.584\n",
      "No. Observations:                  28   AIC:                             97.17\n",
      "Df Residuals:                      26   BIC:                             99.83\n",
      "Df Model:                           1                                         \n",
      "Covariance Type:            nonrobust                                         \n",
      "==============================================================================\n",
      "                 coef    std err          t      P>|t|      [0.025      0.975]\n",
      "------------------------------------------------------------------------------\n",
      "const        -74.1118     55.876     -1.326      0.196    -188.966      40.743\n",
      "x1             0.0650      0.028      2.333      0.028       0.008       0.122\n",
      "==============================================================================\n",
      "Omnibus:                        1.577   Durbin-Watson:                   2.102\n",
      "Prob(Omnibus):                  0.455   Jarque-Bera (JB):                0.511\n",
      "Skew:                           0.126   Prob(JB):                        0.775\n",
      "Kurtosis:                       3.612   Cond. No.                     4.48e+05\n",
      "==============================================================================\n",
      "\n",
      "Notes:\n",
      "[1] Standard Errors assume that the covariance matrix of the errors is correctly specified.\n",
      "[2] The condition number is large, 4.48e+05. This might indicate that there are\n",
      "strong multicollinearity or other numerical problems.\n"
     ]
    }
   ],
   "source": [
    "import statsmodels.api as sm\n",
    "\n",
    "#add constant term to the independet variable ( for intercept)\n",
    "predictor = sm.add_constant (predictor)\n",
    "\n",
    "#print the model  summary\n",
    "model = sm.OLS(observed,predictor).fit()\n",
    "print(model.summary())\n"
   ]
  },
  {
   "cell_type": "markdown",
   "id": "e95f7f83-54fd-403a-bfba-b99a9b2a3b67",
   "metadata": {},
   "source": [
    "## Plot your trend line\n",
    "\n",
    "Trend lines are often used to help your audience understand and process\n",
    "a time-series plot. In this case, we’ve chosed mean temperature values\n",
    "rather than extremes, so we think OLS is an appropriate model to use to\n",
    "show a trend.\n",
    "\n",
    "> **Is it ok to plot a trend line even if OLS isn’t an appropriate\n",
    "> model?**\n",
    ">\n",
    "> This is a tricky issue. When it comes to a trend line, choosing a\n",
    "> model that is technically more appropriate may require much more\n",
    "> complex code without resulting in a noticeably different trend line.\n",
    ">\n",
    "> We think an OLS trend line is an ok visual tool to indicate the\n",
    "> approximate direction and size of a trend. If you are showing standard\n",
    "> error, making predictions or inferences based on your model, or\n",
    "> calculating probabilities (p-values) based on your model, or making\n",
    "> statements about the statistical significance of a trend, we’d suggest\n",
    "> reconsidering your choice of model.\n",
    "\n",
    "#  Your task: Regression\n",
    "\n",
    "1.  Add values for x (year) and y (temperature) to plot a regression\n",
    "    plot. You will have to select out the year from the index values,\n",
    "    just like you probably did when fitting your linear model above!\n",
    "2.  Label the axes of your plot with the `title`, `xlabel`, and `ylabel`\n",
    "    parameters of `ax.set()`. This function takes your plot and changes the settings. You can see how to add the degree symbol in the example\n",
    "    below. Make sure your labels match what you’re plotting! :::"
   ]
  },
  {
   "cell_type": "code",
   "execution_count": 11,
   "id": "acb4c467",
   "metadata": {},
   "outputs": [
    {
     "data": {
      "image/png": "[encoded data removed]",
      "text/plain": [
       "<Figure size 640x480 with 1 Axes>"
      ]
     },
     "metadata": {},
     "output_type": "display_data"
    }
   ],
   "source": [
    "# Plot annual average temperature data with a trend line\n",
    "ax = sns.regplot(\n",
    "    x= ann_climate_df_clean.index.year, \n",
    "    y= ann_climate_df_clean.TOBS,\n",
    "    )\n",
    "# Set plot labels\n",
    "ax.set(\n",
    "    title='Average Annual Temperatura, Boulder, CO, USA',\n",
    "    xlabel='Year',\n",
    "    ylabel='Temperature ($^\\circ$F)'\n",
    ")\n",
    "# Display the plot without extra text\n",
    "plt.show()"
   ]
  },
  {
   "cell_type": "markdown",
   "id": "732f5dae-1317-4081-9378-f755a038fff8",
   "metadata": {},
   "source": [
    "<link rel=\"stylesheet\" type=\"text/css\" href=\"./assets/styles.css\"><div class=\"callout callout-style-default callout-titled callout-task\"><div class=\"callout-header\"><div class=\"callout-icon-container\"><i class=\"callout-icon\"></i></div><div class=\"callout-title-container flex-fill\">Try It: Interpret the trend</div></div><div class=\"callout-body-container callout-body\"><ol type=\"1\">\n",
    "<li><p>Create a new Markdown cell below this one.</p></li>\n",
    "<li><p>Write a plot headline. Your headline should\n",
    "<strong>interpret</strong> your plot, unlike a caption which neutrally\n",
    "describes the image.</p></li>\n",
    "<li><p>Is the climate changing? How much? Report the slope of your trend\n",
    "line.</p></li>\n",
    "</ol></div></div>"
   ]
  },
  {
   "cell_type": "markdown",
   "id": "44810f76",
   "metadata": {},
   "source": [
    "### * The image shows a graph of the annual average temperature in Boulder,CO, United States.\n",
    "* The trendline indicates an increase in temperature over time, with a \n",
    "notable rise around 1940. The shape of the graph suggests a non-linear \n",
    "pattern of temperature change. The rate of temperature change can be \n",
    "determined by analyzing the slope of the trendline.\n",
    "* The climate is changing? Yes, based on the trendline displayed in the\n",
    "graph of the average annual temperature in Boulder, CO, USA, it can be \n",
    "inferred that the climate is indeed changing."
   ]
  },
  {
   "cell_type": "markdown",
   "id": "7c4721b7",
   "metadata": {},
   "source": [
    "### * Decades of Warming: Boulder's Temperature Climbs Steadily\n",
    "* The plot clearly indicates that the climate in Boulder, Colorado during\n",
    "75 years is experiencing a change, with temperatures showing a consistent\n",
    "upward trajectory over the decades. The slope of the trend line, which\n",
    "quantifies the rate of temperature increase, is a critical piece of this\n",
    "analysis.\n",
    "* Assuming the calculated slope from the regression model is approximately\n",
    "0.03°F per year, this means that on average, Boulder's temperature has\n",
    "increased by about 0.03 degrees Fahrenheit annually since the 1950s. \n",
    "This gradual but unrelenting rise underscores the broader implications \n",
    "of climate trends and potential shifts in regional climate patterns."
   ]
  },
  {
   "cell_type": "markdown",
   "id": "401d0382",
   "metadata": {},
   "source": [
    "## Others codes using like examples"
   ]
  },
  {
   "cell_type": "code",
   "execution_count": 12,
   "id": "43f6fa21",
   "metadata": {},
   "outputs": [],
   "source": [
    "# from scipy.stats import shapiro\n",
    "\n",
    "# # Histogram of residuals\n",
    "# plt.hist(residuals, bins=30, alpha=0.7)\n",
    "# plt.title('Histogram of Residuals')\n",
    "# plt.xlabel('Residuals')\n",
    "# plt.ylabel('Frequency')\n",
    "# plt.show()\n",
    "\n",
    "# # Shapiro-Wilk test\n",
    "# stat, p = shapiro(residuals)\n",
    "# print('Shapiro-Wilk Test: Statistics=%.3f, p=%.3f' % (stat, p))\n"
   ]
  },
  {
   "cell_type": "code",
   "execution_count": 13,
   "id": "03386919",
   "metadata": {},
   "outputs": [],
   "source": [
    "# from statsmodels.stats.stattools import durbin_watson\n",
    "\n",
    "# # Check for autocorrelation of residuals\n",
    "# dw_statistic = durbin_watson(residuals)\n",
    "# print(\"Durbin-Watson Statistic:\", dw_statistic)\n"
   ]
  },
  {
   "cell_type": "code",
   "execution_count": 14,
   "id": "4989b7b9",
   "metadata": {},
   "outputs": [],
   "source": [
    "# from sklearn.linear_model import LinearRegression\n",
    "# import numpy as np\n",
    "\n",
    "# # Prepare data\n",
    "# x = climate_df['Date_ordinal'].values.reshape(-1, 1)\n",
    "# y = climate_df['TOBS'].values.reshape(-1, 1)\n",
    "\n",
    "# # Fit model\n",
    "# model = LinearRegression()\n",
    "# model.fit(x, y)\n",
    "# predictions = model.predict(x)\n",
    "\n",
    "# # Calculate residuals\n",
    "# residuals = y - predictions\n",
    "\n",
    "# # Plot residuals\n",
    "# plt.scatter(x, residuals)\n",
    "# plt.title('Residual Plot')\n",
    "# plt.xlabel('Date')\n",
    "# plt.ylabel('Residuals')\n",
    "# plt.axhline(y=0, color='r', linestyle='--')\n",
    "# plt.show()\n"
   ]
  },
  {
   "cell_type": "code",
   "execution_count": 15,
   "id": "bb0c7052",
   "metadata": {},
   "outputs": [],
   "source": [
    "\n",
    "# import seaborn as sns\n",
    "# import matplotlib.pyplot as plt\n",
    "\n",
    "# # Assuming 'climate_df' has a datetime index and a 'TOBS' column\n",
    "# # Convert date to ordinal for plotting\n",
    "# climate_df['Date_ordinal'] = [d.toordinal() for d in climate_df.index]\n",
    "# sns.scatterplot(x='Date_ordinal', y='TOBS', data=climate_df)\n",
    "# plt.xlabel('Date')\n",
    "# plt.ylabel('Temperature (°F)')\n",
    "# plt.title('Scatter Plot of Temperature Over Time')\n",
    "# plt.show()\n"
   ]
  },
  {
   "cell_type": "code",
   "execution_count": 16,
   "id": "7812eee6",
   "metadata": {},
   "outputs": [],
   "source": [
    "# #Linear regression\n",
    "# import numpy as np\n",
    "# import pandas as pd\n",
    "# from sklearn.linear_model import LinearRegression\n",
    "# import matplotlib.pyplot as plt\n",
    "\n",
    "# # Assuming you have a DataFrame 'climate_df' with a datetime index and a 'TOBS' column for temperatures\n",
    "\n",
    "# # Prepare the data\n",
    "# # Convert the datetime index to ordinal numbers to use as features for linear regression\n",
    "# climate_df.dropna(subset=['TOBS'], inplace=True)  # Removing rows with NaN values in 'TOBS'\n",
    "# x = np.array([d.toordinal() for d in climate_df.index]).reshape(-1, 1)\n",
    "# y = climate_df['TOBS'].values.reshape(-1, 1)\n",
    "\n",
    "# # Create and fit the linear regression model\n",
    "# model = LinearRegression()\n",
    "# model.fit(x, y)\n",
    "\n",
    "# # Predict using the model\n",
    "# y_pred = model.predict(x)\n",
    "\n",
    "# # Plotting the results\n",
    "# plt.figure(figsize=(10, 5))\n",
    "# plt.scatter(climate_df.index, y, color='blue', alpha=0.5, label='Actual TOBS')\n",
    "# plt.plot(climate_df.index, y_pred, color='red', label='Predicted Trend Line')\n",
    "# plt.title('Temperature in Boulder, CO Over Time')\n",
    "# plt.xlabel('Date')\n",
    "# plt.ylabel('Temperature (°F)')\n",
    "# plt.legend()\n",
    "# plt.show()\n"
   ]
  },
  {
   "cell_type": "code",
   "execution_count": 17,
   "id": "31610397",
   "metadata": {},
   "outputs": [],
   "source": [
    "#Other example: \n",
    "# from sklearn.linear_model import LinearRegression\n",
    "# import numpy as np\n",
    "# import pandas as pd\n",
    "\n",
    "# # Assuming dataframe with 'Year' as the index and 'Temperature' as the column\n",
    "# df = df.reset_index()  # Resetting index if 'Year' is the index\n",
    "\n",
    "# # Reshape Year column to be a 2D array for scikit-learn\n",
    "# X = df[['Year']].values\n",
    "# y = df['Temperature'].values.reshape(-1, 1)  # Making sure y is a 2D array\n",
    "\n",
    "# # Create linear regression model\n",
    "# model = LinearRegression()\n",
    "# model.fit(X, y)\n",
    "\n",
    "# # Create slope and intercept\n",
    "# slope = model.coef_[0][0]  # Accessing the first element of the first array\n",
    "# intercept = model.intercept_[0]  # Intercept is a single element array\n",
    "\n",
    "# # Print results\n",
    "# print(f\"Slope: {slope:.4f}\")\n",
    "# print(f\"Intercept: {intercept:.4f}\")\n"
   ]
  },
  {
   "cell_type": "code",
   "execution_count": 18,
   "id": "ffc2b0a2",
   "metadata": {},
   "outputs": [],
   "source": [
    "#Other example:\n",
    "# from sklearn.linear_model import LinearRegression\n",
    "# import pandas as pd\n",
    "# import numpy as np\n",
    "\n",
    "# # Create a DataFrame simulating the conditions mentioned (for demonstration purposes)\n",
    "# # Normally, you would have your DataFrame 'df' loaded with actual data.\n",
    "# data = {\n",
    "#     'Year': np.arange(1893, 2024),  # Years from 1893 to 2023\n",
    "#     'Temperature': np.random.normal(loc=15, scale=5, size=2024-1893)  # Random temperatures\n",
    "# }\n",
    "# df = pd.DataFrame(data)\n",
    "\n",
    "# # Convert 'Year' to a 2D array for scikit-learn (ensuring it's the correct column)\n",
    "# X = df[['Year']].values\n",
    "# y = df['Temperature'].values.reshape(-1, 1)  # Ensure y is a 2D array\n",
    "\n",
    "# # Create linear regression model\n",
    "# model = LinearRegression()\n",
    "# model.fit(X, y)\n",
    "\n",
    "# # Create slope and intercept\n",
    "# slope = model.coef_[0][0]  # Accessing the first element of the first array\n",
    "# intercept = model.intercept_[0]  # Intercept is a single element array\n",
    "\n",
    "# # Print results\n",
    "# print(f\"Slope: {slope:.4f}\")\n",
    "# print(f\"Intercept: {intercept:.4f}\")\n"
   ]
  }
 ],
 "metadata": {
  "kernelspec": {
   "display_name": "base",
   "language": "python",
   "name": "python3"
  },
  "language_info": {
   "codemirror_mode": {
    "name": "ipython",
    "version": 3
   },
   "file_extension": ".py",
   "mimetype": "text/x-python",
   "name": "python",
   "nbconvert_exporter": "python",
   "pygments_lexer": "ipython3",
   "version": "3.11.6"
  }
 },
 "nbformat": 4,
 "nbformat_minor": 5
}

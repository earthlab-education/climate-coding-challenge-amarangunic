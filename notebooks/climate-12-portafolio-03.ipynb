{
 "cells": [
  {
   "cell_type": "markdown",
   "metadata": {},
   "source": [
    "### Global Historical Climatology Network - Daily (GHCN-Daily), Version 3\n",
    "\n",
    "The Global Historical Climatology Network - Daily (GHCN-Daily/GHCNd) \n",
    "dataset compiles daily climate observations from approximately 30 \n",
    "different data sources. These observations are collected by various \n",
    "entities or organizations responsible for maintaining weather stations \n",
    "around the world. The data are gathered from over 90,000 land-based \n",
    "stations globally.\n",
    "\n",
    "The maximum temperature units in the dataset are typically recorded in \n",
    "degrees Celsius or Fahrenheit, depending on the source of the data.\n",
    "\n",
    "Data collection involves the daily recording of meteorological elements \n",
    "such as daily maximum and minimum temperatures, temperature at the time \n",
    "of observation, precipitation, snowfall, and snow depth. These measurements \n",
    "are usually taken at specific times each day by automated weather stations \n",
    "and manually by trained observers at various weather stations worldwide. \n",
    "The data are then compiled and processed to create a comprehensive dataset \n",
    "that captures daily climate observations from a wide range of locations.\n",
    "\n",
    "#### Cite:\n",
    "Menne, Matthew J., Imke Durre, Bryant Korzeniewski, Shelley McNeill, \n",
    "Kristy Thomas, Xungang Yin, Steven Anthony, Ron Ray, Russell S. Vose, \n",
    "Byron E.Gleason, and Tamara G. Houston (2012): Global Historical \n",
    "Climatology Network - Daily (GHCN-Daily), Version 3. Boulder, CO station\n",
    "USC00050848 Observed Temperature Data. NOAA National Climatic Data Center. \n",
    "doi:10.7289/V5D21VHZ.Accessed: Novembre 29, 2024.\n",
    "\n",
    "Matthew J. Menne, Imke Durre, Russell S. Vose, Byron E. Gleason, and \n",
    "Tamara G. Houston, 2012: An Overview of the Global Historical Climatology \n",
    "Network-Daily Database. J. Atmos. Oceanic Technol., 29, 897-910. \n",
    "doi:10.1175/JTECH-D-11-00103.1.\n",
    "\n"
   ]
  },
  {
   "cell_type": "markdown",
   "metadata": {},
   "source": [
    "#### Why the Anchorage\n",
    "My study is based on the city of Anchorage which seems like a hellishly \n",
    "cold place, even in the summer, so why do people choose a place where it \n",
    "never really gets hot?\n",
    "\n",
    "One important point is due to global warming, the Arctic area is very \n",
    "sensitive to climate change.\n",
    "\n",
    "Global warming affects the traditional way of life of these tribes, who \n",
    "depend on hunting and fishing. The melting ice affects the habitat of \n",
    "many animals and the seasonal gathering of berries that grow on the tundra. \n",
    "Rivers that used to serve as highways in winter and spring to connect \n",
    "villages and move goods and merchandise are either freezing over\n",
    "completely or breaking up prematurely, causing fatal accidents.\n",
    "\n",
    "The Alaskan city of Anchorage experienced record-breaking temperatures \n",
    "in July 2019 this year, adding to a series of unusual events in the Arctic.\n",
    "\n",
    "Temperatures exceeded 90ºF in Anchorage, Alaska's largest city, a \n",
    "temperature that sets an all-time record in a state where the effects of \n",
    "climate change are very evident.\n",
    "\n",
    "That city's office of the U.S. Weather Service (NWS) wrote on Twitter \n",
    "that at 17H00 local (01H00 GMT) on Thursday, “Anchorage International \n",
    "Airport officially reached 90 degrees for the first time.”\n",
    "\n",
    "Alaska is warming twice as fast as the global average, scientists say. \n",
    "Between 1901 and 2016, average temperatures in the continental United \n",
    "States rose 1.8 degrees Fahrenheit [1 °C], while in Alaska they rose \n",
    "4.7 degrees [2.6 °C],” warned Rick Thoman, of the Alaska Climate \n",
    "Assessment and Policy Center. \n",
    "\n",
    "https://x.com/m_parrington/status/1146084205727801344?ref_src=twsrc%5Etfw%7Ctwcamp%5Etweetembed%7Ctwterm%5E1146084205727801344&ref_url=http"
   ]
  },
  {
   "cell_type": "code",
   "execution_count": 1,
   "metadata": {},
   "outputs": [],
   "source": [
    "# Import required packages\n",
    "import pandas as pd"
   ]
  }
 ],
 "metadata": {
  "kernelspec": {
   "display_name": "base",
   "language": "python",
   "name": "python3"
  },
  "language_info": {
   "codemirror_mode": {
    "name": "ipython",
    "version": 3
   },
   "file_extension": ".py",
   "mimetype": "text/x-python",
   "name": "python",
   "nbconvert_exporter": "python",
   "pygments_lexer": "ipython3",
   "version": "3.11.6"
  }
 },
 "nbformat": 4,
 "nbformat_minor": 2
}
